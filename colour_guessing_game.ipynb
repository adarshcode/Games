{
 "cells": [
  {
   "cell_type": "code",
   "execution_count": 20,
   "metadata": {},
   "outputs": [],
   "source": [
    "import tkinter #import the modules \n",
    "root = tkinter.Tk() #creates a gui window\n",
    "import random "
   ]
  },
  {
   "cell_type": "code",
   "execution_count": 21,
   "metadata": {},
   "outputs": [],
   "source": [
    "cl = ['Red','Blue','Green','Yellow','Orange','White','Purple','Brown','Crimson','Indigo','Pink','Cyan'] #list of all colours\n",
    "point=0 #point variable to store points of the player \n",
    "tl=30 #time left, initially 30s"
   ]
  },
  {
   "cell_type": "code",
   "execution_count": 22,
   "metadata": {},
   "outputs": [],
   "source": [
    "def beggm(event): #starts the game\n",
    "    if tl==30:\n",
    "        countd() #game timer\n",
    "        \n",
    "    nxtcl() #chooses the next colour"
   ]
  },
  {
   "cell_type": "code",
   "execution_count": 23,
   "metadata": {},
   "outputs": [],
   "source": [
    "def nxtcl():\n",
    "    global point #global keyword is used inorder to access the variables declared above\n",
    "    global tl\n",
    "    \n",
    "    if tl>0: #if game is going on\n",
    "        e.focus_set() #activates entry box\n",
    "        \n",
    "        if e.get().lower() == cl[1].lower(): #checks if the colour typed is equal to colour of the text\n",
    "            point=point+2 #if equal increment point\n",
    "           # tl=tl+10\n",
    "        #else:\n",
    "         #   point=point-4\n",
    "            \n",
    "        e.delete(0, tkinter.END) #clears the entry box for next input\n",
    "          \n",
    "        random.shuffle(cl) \n",
    "        \n",
    "        label.config(fg = str(cl[1]), text = str(cl[0])) #changes the colour by changing the text and the colour by a random colour  \n",
    "        pointLabel.config(text = \"Points: \" + str(point)) #shows the updated points\n",
    "  \n",
    "            \n",
    "  \n",
    "    "
   ]
  },
  {
   "cell_type": "code",
   "execution_count": 24,
   "metadata": {},
   "outputs": [],
   "source": [
    "def countd(): #countdown timer\n",
    "    global tl\n",
    "    \n",
    "    if tl>0: #if game is going on\n",
    "        tl=tl-1 #decrementing timer\n",
    "        \n",
    "        tLabel.config(text = \"Time left: \" + str(tl)) #shows time left\n",
    "            \n",
    "        tLabel.after(1000, countd) #runs the function again after 1s(recursion)\n",
    "        \n",
    "   # else:\n",
    "        \n",
    "    #    tlabel=tkinter.Label(text = \"OOPS! TIME'S UP\", font = ('Helvetica', 40))\n",
    "     #   tlabel.pack()\n",
    "  "
   ]
  },
  {
   "cell_type": "code",
   "execution_count": 25,
   "metadata": {},
   "outputs": [],
   "source": [
    "root.title(\"COLOUR GUESSSING GAME\") #title of the game or the gui window\n",
    "  \n",
    "root.geometry(\"750x400\") #size of the window\n",
    "  \n",
    "instructions = tkinter.Label(root, text = \"Type the colour of the word\", font = ('Helvetica', 18)) \n",
    "instructions.pack()  \n",
    "  \n",
    "pointLabel = tkinter.Label(root, text = \"Press enter to start\", font = ('Helvetica', 18)) \n",
    "pointLabel.pack() \n",
    "  \n",
    "tLabel = tkinter.Label(root, text = \"Time left: \" +str(tl), font = ('Helvetica', 18)) \n",
    "tLabel.pack() \n",
    "  \n",
    "label = tkinter.Label(root, font = ('Helvetica', 60)) \n",
    "label.pack() \n",
    "\n",
    "e = tkinter.Entry(root) #making a text entry box to input colours\n",
    "  \n",
    "root.bind('<Return>', beggm) #runs the beggm func when enter is hit\n",
    "e.pack() \n",
    "  \n",
    "e.focus_set() \n",
    "\n",
    "#root.configure(bg='black')\n",
    "  \n",
    "root.mainloop() #starts the gui\n"
   ]
  },
  {
   "cell_type": "code",
   "execution_count": 60,
   "metadata": {},
   "outputs": [
    {
     "data": {
      "text/plain": [
       "'Blue'"
      ]
     },
     "execution_count": 60,
     "metadata": {},
     "output_type": "execute_result"
    }
   ],
   "source": [
    "cl[1]"
   ]
  },
  {
   "cell_type": "code",
   "execution_count": null,
   "metadata": {},
   "outputs": [],
   "source": []
  }
 ],
 "metadata": {
  "kernelspec": {
   "display_name": "Python 3",
   "language": "python",
   "name": "python3"
  },
  "language_info": {
   "codemirror_mode": {
    "name": "ipython",
    "version": 3
   },
   "file_extension": ".py",
   "mimetype": "text/x-python",
   "name": "python",
   "nbconvert_exporter": "python",
   "pygments_lexer": "ipython3",
   "version": "3.7.6"
  }
 },
 "nbformat": 4,
 "nbformat_minor": 4
}
